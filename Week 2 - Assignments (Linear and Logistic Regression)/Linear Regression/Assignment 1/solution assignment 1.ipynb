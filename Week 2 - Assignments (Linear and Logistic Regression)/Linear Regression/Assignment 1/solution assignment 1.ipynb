{
 "cells": [
  {
   "cell_type": "code",
   "execution_count": 1,
   "id": "a3aad6c7",
   "metadata": {},
   "outputs": [],
   "source": [
    "# importing dependencies\n",
    "import numpy as np\n",
    "import pandas as pd\n",
    "import matplotlib.pyplot as plt\n"
   ]
  },
  {
   "cell_type": "code",
   "execution_count": 3,
   "id": "252b0b1f",
   "metadata": {},
   "outputs": [
    {
     "name": "stdout",
     "output_type": "stream",
     "text": [
      "(3750, 1)\n",
      "(3750, 1)\n"
     ]
    }
   ],
   "source": [
    "# reading data \n",
    "dfx = pd.read_csv('./Training Data/Linear_X_Train.csv')\n",
    "dfy = pd.read_csv('./Training Data/Linear_Y_Train.csv')\n",
    "\n",
    "#convert into numpy array\n",
    "x = np.asarray(dfx)\n",
    "y = np.asarray(dfy)\n",
    "\n",
    "# x=x.reshape((-1,1))\n",
    "# y=y.reshape((-1,1))\n",
    "\n",
    "print(x.shape)\n",
    "print(y.shape)"
   ]
  },
  {
   "cell_type": "code",
   "execution_count": 4,
   "id": "86f59ba1",
   "metadata": {},
   "outputs": [
    {
     "data": {
      "image/png": "[encoded data removed]",
      "text/plain": [
       "<Figure size 432x288 with 1 Axes>"
      ]
     },
     "metadata": {
      "needs_background": "light"
     },
     "output_type": "display_data"
    }
   ],
   "source": [
    "plt.scatter(x,y)\n",
    "plt.show()"
   ]
  },
  {
   "cell_type": "code",
   "execution_count": 5,
   "id": "029b93c1",
   "metadata": {},
   "outputs": [],
   "source": [
    "from sklearn.linear_model import LinearRegression"
   ]
  },
  {
   "cell_type": "code",
   "execution_count": 6,
   "id": "8b0deeec",
   "metadata": {},
   "outputs": [
    {
     "data": {
      "text/plain": [
       "LinearRegression()"
      ]
     },
     "execution_count": 6,
     "metadata": {},
     "output_type": "execute_result"
    }
   ],
   "source": [
    "model = LinearRegression()\n",
    "model.fit(x,y)"
   ]
  },
  {
   "cell_type": "code",
   "execution_count": 7,
   "id": "33bdaccb",
   "metadata": {},
   "outputs": [
    {
     "data": {
      "text/plain": [
       "array([[-147.52847525],\n",
       "       [ -66.26699842],\n",
       "       [-200.06209345],\n",
       "       ...,\n",
       "       [  14.0382031 ],\n",
       "       [ -18.66616899],\n",
       "       [ -51.07594693]])"
      ]
     },
     "execution_count": 7,
     "metadata": {},
     "output_type": "execute_result"
    }
   ],
   "source": [
    "test_data = pd.read_csv('./Testing Data/Linear_X_Test.csv')\n",
    "test_data = np.asarray(test_data)\n",
    "output = model.predict(test_data)\n",
    "output"
   ]
  },
  {
   "cell_type": "code",
   "execution_count": 8,
   "id": "61e7e871",
   "metadata": {},
   "outputs": [
    {
     "data": {
      "text/plain": [
       "0.9709612233822353"
      ]
     },
     "execution_count": 8,
     "metadata": {},
     "output_type": "execute_result"
    }
   ],
   "source": [
    "model.score(x,y)"
   ]
  },
  {
   "cell_type": "code",
   "execution_count": 9,
   "id": "835c93fe",
   "metadata": {},
   "outputs": [
    {
     "name": "stdout",
     "output_type": "stream",
     "text": [
      "[3.72798828] [[80.54363185]]\n"
     ]
    }
   ],
   "source": [
    "bias = model.intercept_\n",
    "coeff = model.coef_\n",
    "print(bias,coeff)"
   ]
  },
  {
   "cell_type": "code",
   "execution_count": 10,
   "id": "aaa0a2f7",
   "metadata": {},
   "outputs": [
    {
     "data": {
      "image/png": "[encoded data removed]",
      "text/plain": [
       "<Figure size 432x288 with 1 Axes>"
      ]
     },
     "metadata": {
      "needs_background": "light"
     },
     "output_type": "display_data"
    }
   ],
   "source": [
    "plt.scatter(x,y,label='Training_Data',color='red')\n",
    "plt.plot(test_data,output,color='black',label='predictions')\n",
    "plt.legend()\n",
    "plt.show()"
   ]
  },
  {
   "cell_type": "code",
   "execution_count": null,
   "id": "be9aed6b",
   "metadata": {},
   "outputs": [],
   "source": []
  }
 ],
 "metadata": {
  "kernelspec": {
   "display_name": "Python 3.9.6 64-bit",
   "language": "python",
   "name": "python3"
  },
  "language_info": {
   "codemirror_mode": {
    "name": "ipython",
    "version": 3
   },
   "file_extension": ".py",
   "mimetype": "text/x-python",
   "name": "python",
   "nbconvert_exporter": "python",
   "pygments_lexer": "ipython3",
   "version": "3.9.6"
  },
  "vscode": {
   "interpreter": {
    "hash": "e31aef8222fb7c235d2ed8e74ce17e973738f89b37261e7466b7a63a6dfb1214"
   }
  }
 },
 "nbformat": 4,
 "nbformat_minor": 5
}
