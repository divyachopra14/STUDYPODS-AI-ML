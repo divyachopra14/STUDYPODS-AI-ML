{
 "cells": [
  {
   "cell_type": "markdown",
   "id": "1b942747",
   "metadata": {},
   "source": [
    "# Linear Regression"
   ]
  },
  {
   "cell_type": "code",
   "execution_count": 2,
   "id": "348d66f1",
   "metadata": {},
   "outputs": [
    {
     "name": "stderr",
     "output_type": "stream",
     "text": [
      "C:\\Users\\LENOVO\\anaconda3\\lib\\site-packages\\numpy\\_distributor_init.py:30: UserWarning: loaded more than 1 DLL from .libs:\n",
      "C:\\Users\\LENOVO\\anaconda3\\lib\\site-packages\\numpy\\.libs\\libopenblas.FB5AE2TYXYH2IJRDKGDGQ3XBKLKTF43H.gfortran-win_amd64.dll\n",
      "C:\\Users\\LENOVO\\anaconda3\\lib\\site-packages\\numpy\\.libs\\libopenblas.NOIJJG62EMASZI6NYURL6JBKM4EVBGM7.gfortran-win_amd64.dll\n",
      "  warnings.warn(\"loaded more than 1 DLL from .libs:\"\n"
     ]
    }
   ],
   "source": [
    "# importing necessary dependencies\n",
    "import numpy as np\n",
    "import pandas as pd\n",
    "import matplotlib.pyplot as plt\n"
   ]
  },
  {
   "cell_type": "code",
   "execution_count": 3,
   "id": "d7ffa5bc",
   "metadata": {},
   "outputs": [
    {
     "name": "stdout",
     "output_type": "stream",
     "text": [
      "(99, 1)\n",
      "(99,) (99,)\n"
     ]
    }
   ],
   "source": [
    "# Get the training data\n",
    "\n",
    "dfX = pd.read_csv('./data/linearX.csv')\n",
    "dfY = pd.read_csv('.\\data\\linearY.csv')\n",
    "\n",
    "dfX=dfX.values\n",
    "dfY=dfY.values\n",
    "\n",
    "#  changing into linear numpy array by reshaping \n",
    "x = dfX.reshape((-1,))\n",
    "y = dfY.reshape((-1,))\n",
    "\n",
    "print(dfX.shape)\n",
    "print(x.shape,y.shape)"
   ]
  },
  {
   "cell_type": "code",
   "execution_count": null,
   "id": "d3e6c505",
   "metadata": {},
   "outputs": [],
   "source": []
  },
  {
   "cell_type": "markdown",
   "id": "5fc465f1",
   "metadata": {},
   "source": [
    "# Data Processing and Visualisation"
   ]
  },
  {
   "cell_type": "code",
   "execution_count": 4,
   "id": "cc0a8d0b",
   "metadata": {},
   "outputs": [
    {
     "data": {
      "image/png": "[encoded data removed]",
      "text/plain": [
       "<Figure size 432x288 with 1 Axes>"
      ]
     },
     "metadata": {
      "needs_background": "light"
     },
     "output_type": "display_data"
    }
   ],
   "source": [
    "plt.scatter(x,y)\n",
    "x=(x-x.mean()/x.std())\n",
    "plt.show()"
   ]
  },
  {
   "cell_type": "markdown",
   "id": "279a292d",
   "metadata": {},
   "source": [
    "# Gradient descent algorithm\n",
    " > Start with a random line\n",
    " > Repeat until coverage\n",
    "   > Update Theta according to the rule"
   ]
  },
  {
   "cell_type": "code",
   "execution_count": 4,
   "id": "eb94628a",
   "metadata": {},
   "outputs": [],
   "source": [
    "def hypothesis(x,theta):\n",
    "    return theta[0]+theta[1]*x"
   ]
  },
  {
   "cell_type": "code",
   "execution_count": 10,
   "id": "a86a7509",
   "metadata": {},
   "outputs": [],
   "source": [
    "#  error function\n",
    "def error(x,y,theta):\n",
    "    error=0\n",
    "    for i in range(x.shape[0]):\n",
    "        hx=hypothesis(x[i],theta)\n",
    "        error+=(hx-y[i])**2\n",
    "    return error"
   ]
  },
  {
   "cell_type": "code",
   "execution_count": 7,
   "id": "78cc358d",
   "metadata": {},
   "outputs": [],
   "source": [
    "# gradient algo\n",
    "def gradient(x,y,theta):\n",
    "    grad=np.zeros((2,))\n",
    "    for i in range(x.shape[0]):\n",
    "        hx=hypothesis(x[i],theta)\n",
    "        grad[0]+=(hx-y[i])\n",
    "        grad[1]+=(hx-y[i])*x[i]\n",
    "    return grad"
   ]
  },
  {
   "cell_type": "code",
   "execution_count": 8,
   "id": "aba3cd6b",
   "metadata": {},
   "outputs": [],
   "source": [
    "def gradientDescent(x,y,learningRate=0.001):\n",
    "#random theta\n",
    "        theta=np.array([-2.0,0.0])\n",
    "        max_iteration=100\n",
    "        itr=0\n",
    "        error_list=[]\n",
    "        theta_list=[]\n",
    "        while(itr<=max_iteration):\n",
    "            grad=gradient(x,y,theta)\n",
    "            err=error(x,y,theta)\n",
    "            error_list.append(err)\n",
    "            theta_list.append(theta)\n",
    "            theta[0]-=learningRate*grad[0]\n",
    "            theta[1]-=learningRate*grad[1]\n",
    "            itr+=1\n",
    "        return theta,error_list,theta_list"
   ]
  },
  {
   "cell_type": "code",
   "execution_count": 11,
   "id": "f45597f0",
   "metadata": {},
   "outputs": [],
   "source": [
    "final_theta, error_list, theta_list=gradientDescent(x,y)"
   ]
  },
  {
   "cell_type": "code",
   "execution_count": 12,
   "id": "c93d2853",
   "metadata": {},
   "outputs": [
    {
     "data": {
      "image/png": "[encoded data removed]",
      "text/plain": [
       "<Figure size 432x288 with 1 Axes>"
      ]
     },
     "metadata": {
      "needs_background": "light"
     },
     "output_type": "display_data"
    },
    {
     "data": {
      "image/png": "[encoded data removed]",
      "text/plain": [
       "<Figure size 432x288 with 1 Axes>"
      ]
     },
     "metadata": {
      "needs_background": "light"
     },
     "output_type": "display_data"
    }
   ],
   "source": [
    "plt.plot(error_list)\n",
    "plt.show()\n",
    "plt.plot(theta_list)\n",
    "plt.show()"
   ]
  },
  {
   "cell_type": "code",
   "execution_count": 56,
   "id": "3134bbed",
   "metadata": {},
   "outputs": [
    {
     "name": "stdout",
     "output_type": "stream",
     "text": [
      "[0.59892808 0.09446929]\n"
     ]
    }
   ],
   "source": [
    "print(final_theta)"
   ]
  },
  {
   "cell_type": "code",
   "execution_count": 13,
   "id": "e9defdac",
   "metadata": {},
   "outputs": [
    {
     "name": "stdout",
     "output_type": "stream",
     "text": [
      "[-2.         -1.11111111 -0.22222222  0.66666667  1.55555556  2.44444444\n",
      "  3.33333333  4.22222222  5.11111111  6.        ]\n"
     ]
    }
   ],
   "source": [
    "xtest=np.linspace(-2,6,10)\n",
    "print(xtest)"
   ]
  },
  {
   "cell_type": "code",
   "execution_count": 22,
   "id": "e192b40f",
   "metadata": {},
   "outputs": [
    {
     "data": {
      "image/png": "[encoded data removed]",
      "text/plain": [
       "<Figure size 432x288 with 1 Axes>"
      ]
     },
     "metadata": {
      "needs_background": "light"
     },
     "output_type": "display_data"
    },
    {
     "data": {
      "image/png": "[encoded data removed]",
      "text/plain": [
       "<Figure size 432x288 with 1 Axes>"
      ]
     },
     "metadata": {
      "needs_background": "light"
     },
     "output_type": "display_data"
    }
   ],
   "source": [
    "\n",
    "plt.scatter(x,y,label='Training Data')\n",
    "plt.show()\n",
    "plt.plot(xtest,hypothesis(xtest,final_theta),color='red',label='prediction')\n",
    "plt.show()"
   ]
  },
  {
   "cell_type": "code",
   "execution_count": null,
   "id": "957f2377",
   "metadata": {},
   "outputs": [],
   "source": []
  }
 ],
 "metadata": {
  "kernelspec": {
   "display_name": "Python 3 (ipykernel)",
   "language": "python",
   "name": "python3"
  },
  "language_info": {
   "codemirror_mode": {
    "name": "ipython",
    "version": 3
   },
   "file_extension": ".py",
   "mimetype": "text/x-python",
   "name": "python",
   "nbconvert_exporter": "python",
   "pygments_lexer": "ipython3",
   "version": "3.9.7"
  },
  "vscode": {
   "interpreter": {
    "hash": "e31aef8222fb7c235d2ed8e74ce17e973738f89b37261e7466b7a63a6dfb1214"
   }
  }
 },
 "nbformat": 4,
 "nbformat_minor": 5
}
