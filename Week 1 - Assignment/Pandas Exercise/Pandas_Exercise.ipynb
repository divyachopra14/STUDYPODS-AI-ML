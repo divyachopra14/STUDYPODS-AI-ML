{
 "cells": [
  {
   "cell_type": "markdown",
   "metadata": {},
   "source": [
    "# <center>Introduction to Pandas</center>\n",
    "\n",
    "![](https://pandas.pydata.org/_static/pandas_logo.png)\n",
    "\n",
    "\n",
    "## Installation\n",
    "\n",
    "Simply,\n",
    "```\n",
    "pip install pandas\n",
    "```\n",
    "\n",
    "\n",
    "## Reading data from a CSV file\n",
    "\n",
    "You can read data from a CSV file using the ``read_csv`` function. By default, it assumes that the fields are comma-separated."
   ]
  },
  {
   "cell_type": "code",
   "execution_count": 1,
   "metadata": {},
   "outputs": [],
   "source": [
    "# import pandas\n",
    "import pandas as pd"
   ]
  },
  {
   "cell_type": "markdown",
   "metadata": {},
   "source": [
    ">The `imdb.csv` dataset contains Highest Rated IMDb \"Top 1000\" Titles."
   ]
  },
  {
   "cell_type": "code",
   "execution_count": 2,
   "metadata": {},
   "outputs": [],
   "source": [
    "# load imdb dataset as pandas dataframe\n",
    "imdb_1000_data_url = r'data/imdb_1000.csv'\n",
    "movies = pd.read_csv(imdb_1000_data_url)"
   ]
  },
  {
   "cell_type": "code",
   "execution_count": 3,
   "metadata": {},
   "outputs": [
    {
     "data": {
      "text/html": [
       "<div>\n",
       "<style scoped>\n",
       "    .dataframe tbody tr th:only-of-type {\n",
       "        vertical-align: middle;\n",
       "    }\n",
       "\n",
       "    .dataframe tbody tr th {\n",
       "        vertical-align: top;\n",
       "    }\n",
       "\n",
       "    .dataframe thead th {\n",
       "        text-align: right;\n",
       "    }\n",
       "</style>\n",
       "<table border=\"1\" class=\"dataframe\">\n",
       "  <thead>\n",
       "    <tr style=\"text-align: right;\">\n",
       "      <th></th>\n",
       "      <th>star_rating</th>\n",
       "      <th>title</th>\n",
       "      <th>content_rating</th>\n",
       "      <th>genre</th>\n",
       "      <th>duration</th>\n",
       "      <th>actors_list</th>\n",
       "    </tr>\n",
       "  </thead>\n",
       "  <tbody>\n",
       "    <tr>\n",
       "      <th>0</th>\n",
       "      <td>9.3</td>\n",
       "      <td>The Shawshank Redemption</td>\n",
       "      <td>R</td>\n",
       "      <td>Crime</td>\n",
       "      <td>142</td>\n",
       "      <td>[u'Tim Robbins', u'Morgan Freeman', u'Bob Gunt...</td>\n",
       "    </tr>\n",
       "    <tr>\n",
       "      <th>1</th>\n",
       "      <td>9.2</td>\n",
       "      <td>The Godfather</td>\n",
       "      <td>R</td>\n",
       "      <td>Crime</td>\n",
       "      <td>175</td>\n",
       "      <td>[u'Marlon Brando', u'Al Pacino', u'James Caan']</td>\n",
       "    </tr>\n",
       "    <tr>\n",
       "      <th>2</th>\n",
       "      <td>9.1</td>\n",
       "      <td>The Godfather: Part II</td>\n",
       "      <td>R</td>\n",
       "      <td>Crime</td>\n",
       "      <td>200</td>\n",
       "      <td>[u'Al Pacino', u'Robert De Niro', u'Robert Duv...</td>\n",
       "    </tr>\n",
       "    <tr>\n",
       "      <th>3</th>\n",
       "      <td>9.0</td>\n",
       "      <td>The Dark Knight</td>\n",
       "      <td>PG-13</td>\n",
       "      <td>Action</td>\n",
       "      <td>152</td>\n",
       "      <td>[u'Christian Bale', u'Heath Ledger', u'Aaron E...</td>\n",
       "    </tr>\n",
       "    <tr>\n",
       "      <th>4</th>\n",
       "      <td>8.9</td>\n",
       "      <td>Pulp Fiction</td>\n",
       "      <td>R</td>\n",
       "      <td>Crime</td>\n",
       "      <td>154</td>\n",
       "      <td>[u'John Travolta', u'Uma Thurman', u'Samuel L....</td>\n",
       "    </tr>\n",
       "  </tbody>\n",
       "</table>\n",
       "</div>"
      ],
      "text/plain": [
       "   star_rating                     title content_rating   genre  duration  \\\n",
       "0          9.3  The Shawshank Redemption              R   Crime       142   \n",
       "1          9.2             The Godfather              R   Crime       175   \n",
       "2          9.1    The Godfather: Part II              R   Crime       200   \n",
       "3          9.0           The Dark Knight          PG-13  Action       152   \n",
       "4          8.9              Pulp Fiction              R   Crime       154   \n",
       "\n",
       "                                         actors_list  \n",
       "0  [u'Tim Robbins', u'Morgan Freeman', u'Bob Gunt...  \n",
       "1    [u'Marlon Brando', u'Al Pacino', u'James Caan']  \n",
       "2  [u'Al Pacino', u'Robert De Niro', u'Robert Duv...  \n",
       "3  [u'Christian Bale', u'Heath Ledger', u'Aaron E...  \n",
       "4  [u'John Travolta', u'Uma Thurman', u'Samuel L....  "
      ]
     },
     "execution_count": 3,
     "metadata": {},
     "output_type": "execute_result"
    }
   ],
   "source": [
    "# show first 5 rows of imdb_df\n",
    "movies.head() "
   ]
  },
  {
   "cell_type": "markdown",
   "metadata": {},
   "source": [
    ">The `bikes.csv` dataset contains information about the number of bicycles that used certain bicycle lanes in Montreal in the year 2012."
   ]
  },
  {
   "cell_type": "code",
   "execution_count": 4,
   "metadata": {},
   "outputs": [
    {
     "name": "stderr",
     "output_type": "stream",
     "text": [
      "C:\\Users\\LENOVO\\AppData\\Local\\Temp/ipykernel_18716/14235449.py:3: FutureWarning: The pandas.datetime class is deprecated and will be removed from pandas in a future version. Import from datetime module instead.\n",
      "  d_parser = lambda x: pd.datetime.strptime(x, '%d/%m/%Y')\n"
     ]
    }
   ],
   "source": [
    "# load bikes dataset as pandas dataframe\n",
    "# import datetime from pandas\n",
    "d_parser = lambda x: pd.datetime.strptime(x, '%d/%m/%Y')\n",
    "bikes = pd.read_csv(\"data/bikes.csv\",sep = ';', parse_dates = ['Date'], date_parser = d_parser)"
   ]
  },
  {
   "cell_type": "code",
   "execution_count": 5,
   "metadata": {},
   "outputs": [
    {
     "data": {
      "text/html": [
       "<div>\n",
       "<style scoped>\n",
       "    .dataframe tbody tr th:only-of-type {\n",
       "        vertical-align: middle;\n",
       "    }\n",
       "\n",
       "    .dataframe tbody tr th {\n",
       "        vertical-align: top;\n",
       "    }\n",
       "\n",
       "    .dataframe thead th {\n",
       "        text-align: right;\n",
       "    }\n",
       "</style>\n",
       "<table border=\"1\" class=\"dataframe\">\n",
       "  <thead>\n",
       "    <tr style=\"text-align: right;\">\n",
       "      <th></th>\n",
       "      <th>Date</th>\n",
       "      <th>Unnamed: 1</th>\n",
       "      <th>Rachel / Papineau</th>\n",
       "      <th>Berri1</th>\n",
       "      <th>Maisonneuve_2</th>\n",
       "      <th>Maisonneuve_1</th>\n",
       "      <th>Brébeuf</th>\n",
       "      <th>Parc</th>\n",
       "      <th>PierDup</th>\n",
       "      <th>CSC (Côte Sainte-Catherine)</th>\n",
       "      <th>Pont_Jacques_Cartier</th>\n",
       "    </tr>\n",
       "  </thead>\n",
       "  <tbody>\n",
       "    <tr>\n",
       "      <th>0</th>\n",
       "      <td>2012-01-01</td>\n",
       "      <td>00:00</td>\n",
       "      <td>16</td>\n",
       "      <td>35</td>\n",
       "      <td>51</td>\n",
       "      <td>38</td>\n",
       "      <td>5.0</td>\n",
       "      <td>26</td>\n",
       "      <td>10</td>\n",
       "      <td>0</td>\n",
       "      <td>27.0</td>\n",
       "    </tr>\n",
       "    <tr>\n",
       "      <th>1</th>\n",
       "      <td>2012-01-02</td>\n",
       "      <td>00:00</td>\n",
       "      <td>43</td>\n",
       "      <td>83</td>\n",
       "      <td>153</td>\n",
       "      <td>68</td>\n",
       "      <td>11.0</td>\n",
       "      <td>53</td>\n",
       "      <td>6</td>\n",
       "      <td>1</td>\n",
       "      <td>21.0</td>\n",
       "    </tr>\n",
       "    <tr>\n",
       "      <th>2</th>\n",
       "      <td>2012-01-03</td>\n",
       "      <td>00:00</td>\n",
       "      <td>58</td>\n",
       "      <td>135</td>\n",
       "      <td>248</td>\n",
       "      <td>104</td>\n",
       "      <td>2.0</td>\n",
       "      <td>89</td>\n",
       "      <td>3</td>\n",
       "      <td>2</td>\n",
       "      <td>15.0</td>\n",
       "    </tr>\n",
       "  </tbody>\n",
       "</table>\n",
       "</div>"
      ],
      "text/plain": [
       "        Date Unnamed: 1  Rachel / Papineau  Berri1  Maisonneuve_2  \\\n",
       "0 2012-01-01      00:00                 16      35             51   \n",
       "1 2012-01-02      00:00                 43      83            153   \n",
       "2 2012-01-03      00:00                 58     135            248   \n",
       "\n",
       "   Maisonneuve_1  Brébeuf  Parc  PierDup  CSC (Côte Sainte-Catherine)  \\\n",
       "0             38      5.0    26       10                            0   \n",
       "1             68     11.0    53        6                            1   \n",
       "2            104      2.0    89        3                            2   \n",
       "\n",
       "   Pont_Jacques_Cartier  \n",
       "0                  27.0  \n",
       "1                  21.0  \n",
       "2                  15.0  "
      ]
     },
     "execution_count": 5,
     "metadata": {},
     "output_type": "execute_result"
    }
   ],
   "source": [
    "# show first 3 rows of bikes_df\n",
    "bikes.head(3)"
   ]
  },
  {
   "cell_type": "markdown",
   "metadata": {},
   "source": [
    "## Selecting columns\n",
    "\n",
    "When you read a CSV, you get a kind of object called a DataFrame, which is made up of rows and columns. You get columns out of a DataFrame the same way you get elements out of a dictionary."
   ]
  },
  {
   "cell_type": "code",
   "execution_count": 6,
   "metadata": {},
   "outputs": [
    {
     "data": {
      "text/html": [
       "<div>\n",
       "<style scoped>\n",
       "    .dataframe tbody tr th:only-of-type {\n",
       "        vertical-align: middle;\n",
       "    }\n",
       "\n",
       "    .dataframe tbody tr th {\n",
       "        vertical-align: top;\n",
       "    }\n",
       "\n",
       "    .dataframe thead th {\n",
       "        text-align: right;\n",
       "    }\n",
       "</style>\n",
       "<table border=\"1\" class=\"dataframe\">\n",
       "  <thead>\n",
       "    <tr style=\"text-align: right;\">\n",
       "      <th></th>\n",
       "      <th>star_rating</th>\n",
       "      <th>title</th>\n",
       "      <th>content_rating</th>\n",
       "      <th>genre</th>\n",
       "      <th>duration</th>\n",
       "      <th>actors_list</th>\n",
       "    </tr>\n",
       "  </thead>\n",
       "  <tbody>\n",
       "  </tbody>\n",
       "</table>\n",
       "</div>"
      ],
      "text/plain": [
       "Empty DataFrame\n",
       "Columns: [star_rating, title, content_rating, genre, duration, actors_list]\n",
       "Index: []"
      ]
     },
     "execution_count": 6,
     "metadata": {},
     "output_type": "execute_result"
    }
   ],
   "source": [
    "# list columns of imdb_df\n",
    "movies.head(0)"
   ]
  },
  {
   "cell_type": "code",
   "execution_count": 7,
   "metadata": {},
   "outputs": [
    {
     "data": {
      "text/plain": [
       "star_rating       float64\n",
       "title              object\n",
       "content_rating     object\n",
       "genre              object\n",
       "duration            int64\n",
       "actors_list        object\n",
       "dtype: object"
      ]
     },
     "execution_count": 7,
     "metadata": {},
     "output_type": "execute_result"
    }
   ],
   "source": [
    "# what are the datatypes of values in columns\n",
    "datatypes=movies.dtypes\n",
    "datatypes"
   ]
  },
  {
   "cell_type": "code",
   "execution_count": 8,
   "metadata": {},
   "outputs": [
    {
     "data": {
      "text/plain": [
       "0    The Shawshank Redemption\n",
       "1               The Godfather\n",
       "2      The Godfather: Part II\n",
       "3             The Dark Knight\n",
       "4                Pulp Fiction\n",
       "Name: title, dtype: object"
      ]
     },
     "execution_count": 8,
     "metadata": {},
     "output_type": "execute_result"
    }
   ],
   "source": [
    "# list first 5 movie titles\n",
    "movies.iloc[:5,1:2]\n",
    "movies['title'].head(5)"
   ]
  },
  {
   "cell_type": "code",
   "execution_count": 9,
   "metadata": {},
   "outputs": [
    {
     "data": {
      "text/html": [
       "<div>\n",
       "<style scoped>\n",
       "    .dataframe tbody tr th:only-of-type {\n",
       "        vertical-align: middle;\n",
       "    }\n",
       "\n",
       "    .dataframe tbody tr th {\n",
       "        vertical-align: top;\n",
       "    }\n",
       "\n",
       "    .dataframe thead th {\n",
       "        text-align: right;\n",
       "    }\n",
       "</style>\n",
       "<table border=\"1\" class=\"dataframe\">\n",
       "  <thead>\n",
       "    <tr style=\"text-align: right;\">\n",
       "      <th></th>\n",
       "      <th>title</th>\n",
       "      <th>genre</th>\n",
       "    </tr>\n",
       "  </thead>\n",
       "  <tbody>\n",
       "    <tr>\n",
       "      <th>0</th>\n",
       "      <td>The Shawshank Redemption</td>\n",
       "      <td>Crime</td>\n",
       "    </tr>\n",
       "    <tr>\n",
       "      <th>1</th>\n",
       "      <td>The Godfather</td>\n",
       "      <td>Crime</td>\n",
       "    </tr>\n",
       "    <tr>\n",
       "      <th>2</th>\n",
       "      <td>The Godfather: Part II</td>\n",
       "      <td>Crime</td>\n",
       "    </tr>\n",
       "    <tr>\n",
       "      <th>3</th>\n",
       "      <td>The Dark Knight</td>\n",
       "      <td>Action</td>\n",
       "    </tr>\n",
       "    <tr>\n",
       "      <th>4</th>\n",
       "      <td>Pulp Fiction</td>\n",
       "      <td>Crime</td>\n",
       "    </tr>\n",
       "  </tbody>\n",
       "</table>\n",
       "</div>"
      ],
      "text/plain": [
       "                      title   genre\n",
       "0  The Shawshank Redemption   Crime\n",
       "1             The Godfather   Crime\n",
       "2    The Godfather: Part II   Crime\n",
       "3           The Dark Knight  Action\n",
       "4              Pulp Fiction   Crime"
      ]
     },
     "execution_count": 9,
     "metadata": {},
     "output_type": "execute_result"
    }
   ],
   "source": [
    "# show only movie title and genre\n",
    "movies.iloc[:,1:4:2]\n",
    "movies[['title' ,'genre']].head(5)"
   ]
  },
  {
   "cell_type": "markdown",
   "metadata": {},
   "source": [
    "## Understanding columns\n",
    "\n",
    "On the inside, the type of a column is ``pd.Series`` and pandas Series are internally numpy arrays. If you add ``.values`` to the end of any Series, you'll get its internal **numpy array**."
   ]
  },
  {
   "cell_type": "code",
   "execution_count": 10,
   "metadata": {},
   "outputs": [
    {
     "data": {
      "text/plain": [
       "dtype('int64')"
      ]
     },
     "execution_count": 10,
     "metadata": {},
     "output_type": "execute_result"
    }
   ],
   "source": [
    "# show the type of duration column\n",
    "movies.dtypes['duration']\n",
    "movies['duration'].dtype"
   ]
  },
  {
   "cell_type": "code",
   "execution_count": 11,
   "metadata": {},
   "outputs": [
    {
     "data": {
      "text/plain": [
       "array([142, 175, 200, 152, 154,  96, 161, 201, 195, 139, 178, 148, 124,\n",
       "       142, 179, 169, 133, 207, 146, 121, 136, 130, 130, 106, 127, 116,\n",
       "       175, 118, 110,  87, 125, 112, 102, 107, 119,  87, 169, 115, 112,\n",
       "       109, 189, 110, 150, 165, 155, 137, 113, 165,  95, 151, 155, 153,\n",
       "       125, 130, 116,  89, 137, 117,  88, 165, 170,  89, 146,  99,  98,\n",
       "       116, 156, 122, 149, 134, 122, 136, 157, 123, 119, 137, 128, 120,\n",
       "       229, 107, 134, 103, 177, 129, 102, 216, 136,  93,  68, 189,  99,\n",
       "       108, 113, 181, 103, 138, 110, 129,  88, 160, 126,  91, 116, 125,\n",
       "       143,  93, 102, 132, 153, 183, 160, 120, 138, 140, 153, 170, 129,\n",
       "        81, 127, 131, 172, 115, 108, 107, 129, 156,  96,  91,  95, 162,\n",
       "       130,  86, 186, 151,  96, 170, 118, 161, 131, 126, 131, 129, 224,\n",
       "       180, 105, 117, 140, 119, 124, 130, 139, 107, 132, 117, 126, 122,\n",
       "       178, 238, 149, 172,  98, 116, 116, 123, 148, 123, 182,  92,  93,\n",
       "       100, 135, 105,  94, 140,  83,  95,  98, 143,  99,  98, 121, 163,\n",
       "       121, 167, 188, 121, 109, 110, 129, 127,  94, 107, 100, 117, 129,\n",
       "       120, 121, 133, 111, 122, 101, 134, 165, 138, 212, 154,  89, 134,\n",
       "        93, 114,  88, 130, 101, 158,  99, 108, 124, 132, 113, 131, 191,\n",
       "       167, 130, 147, 102,  88, 165, 132, 118, 101, 108, 174,  98,  92,\n",
       "        98, 106,  85, 101, 105, 115, 115, 124, 105, 103, 138, 184, 120,\n",
       "        99, 131, 138,  98, 123, 118, 114, 118, 112, 124, 160,  67, 146,\n",
       "       125, 115, 134, 141, 129, 104,  94, 124, 150, 119, 128, 143,  85,\n",
       "       151, 118, 101,  99,  92, 125, 102, 106, 107,  91,  80, 122, 102,\n",
       "       112,  92, 135, 136, 153, 105, 126,  68,  84, 103, 145,  80, 106,\n",
       "       127, 178, 137, 172,  76, 130,  96,  82, 115,  95, 143, 125, 120,\n",
       "       127, 112, 104, 113, 189, 127, 188,  96, 113, 132, 122, 126, 140,\n",
       "       133, 112, 102,  93, 109,  81, 108, 111, 119,  96, 197, 127, 138,\n",
       "        66, 181, 141, 144, 128,  83, 121,  98, 117,  94, 174, 112, 108,\n",
       "        70,  99,  96, 137, 136, 100,  90,  96, 161, 115, 181, 169,  98,\n",
       "       136, 138, 119, 123, 112, 120, 103,  97, 109, 165, 156, 147, 100,\n",
       "       126, 115, 105, 144, 102, 107, 119,  90, 197,  86, 113, 133,  64,\n",
       "       141, 113, 122, 105, 119, 102, 122, 123, 113,  97, 117, 111,  85,\n",
       "        99, 134,  75, 109, 117,  91, 128, 111, 119, 100, 114,  92, 141,\n",
       "       101, 115, 127,  96, 129, 135, 109, 157, 193,  94, 155, 113, 130,\n",
       "       117, 159, 141, 112, 162, 126, 120, 144, 120, 109,  97, 108, 115,\n",
       "       136,  90, 170, 220, 116, 134, 124,  91, 103,  96, 119,  98, 101,\n",
       "        93, 179, 155, 121, 103, 127, 103, 107, 100,  92,  94, 158,  86,\n",
       "       115, 130, 107, 100, 108, 124, 131, 122, 242, 127, 141, 126,  89,\n",
       "       113, 152, 107,  92, 145,  84, 126, 132,  78, 117, 128, 100, 128,\n",
       "       100, 143, 107, 100, 125, 106, 157,  94, 104,  94, 153, 123, 120,\n",
       "       105, 166, 112,  94, 111,  87,  80, 108, 102, 105, 136, 101, 100,\n",
       "       108, 101, 106, 105,  88, 129, 138, 129, 118, 139, 123, 150, 132,\n",
       "        80, 178,  79, 163, 114, 144, 130, 154,  81,  95, 101, 120,  93,\n",
       "       115, 106, 120, 110, 123, 142,  99, 112, 120, 122, 130, 139, 129,\n",
       "       141, 127, 130, 118, 110, 115, 101, 112, 108, 143, 152, 117, 121,\n",
       "       119, 114, 122, 105, 110, 116, 139, 121, 109, 146, 113, 100, 121,\n",
       "       113, 113, 117,  93, 101,  90, 131,  98,  93, 121,  82, 124, 100,\n",
       "       117,  99, 116, 123, 114, 133, 105, 127, 144,  90, 118, 122, 102,\n",
       "       187,  87, 154,  89,  88, 129,  95, 118,  98, 194, 114,  80, 130,\n",
       "       135, 101, 105, 129, 134, 143, 202,  89, 106,  92, 137, 124, 122,\n",
       "       113, 112, 110, 135,  88, 146, 104, 125, 131,  91, 142, 129, 158,\n",
       "       102,  99, 101, 104, 119, 103,  88, 100, 146, 150, 140, 140, 110,\n",
       "        97, 102, 152, 100,  94,  85, 104, 112, 191, 119, 111,  94, 103,\n",
       "       134, 157, 158, 127, 101, 109,  98, 134, 168,  93, 145, 111,  88,\n",
       "       123, 121, 144, 116, 124, 147, 106, 113, 129,  94, 126, 128, 111,\n",
       "       146,  85, 105, 132, 130, 162, 113, 110, 113, 162, 110,  78,  92,\n",
       "        95, 138, 102, 128,  96, 164, 126, 110, 109, 122, 124, 128, 157,\n",
       "       120, 102, 152, 170, 102, 116, 164,  85, 104,  99,  81, 131, 101,\n",
       "       121,  69,  92,  94, 141, 116,  98, 135, 121, 108, 114, 102, 112,\n",
       "       140, 157, 128, 108, 139,  83, 131, 113, 136,  96, 118, 108,  83,\n",
       "       205, 124, 111, 137, 104, 109, 115,  99, 114, 133, 131, 131, 123,\n",
       "       126,  97, 126,  89, 122, 121, 125, 105, 118,  81, 115, 126, 113,\n",
       "       107, 126, 111,  85, 120,  93, 100, 107, 126, 131, 116, 143,  93,\n",
       "        96, 160, 137, 119, 114,  98, 111, 138, 144, 107, 114, 125, 146,\n",
       "       113,  85,  97,  93, 113, 128, 114, 147, 127, 167, 124, 109, 124,\n",
       "       102, 130, 125,  98, 154,  97, 128,  98, 101, 147, 172, 125,  88,\n",
       "       125, 121, 112, 120, 133, 110, 135, 110,  80, 135, 101, 112, 124,\n",
       "       129, 104,  96, 105, 109, 117,  78, 138, 106,  90, 106,  91, 112,\n",
       "       134, 112, 104, 101, 120, 123, 133, 110, 129, 120,  83,  88,  96,\n",
       "       139, 113,  84, 106, 170, 144, 104, 153,  85, 130,  93, 148, 115,\n",
       "       102, 125, 106, 121, 143, 116,  99, 116, 128, 119, 104, 114, 152,\n",
       "       129, 103, 112,  92, 141, 106, 109, 104, 122, 111, 112, 116, 130,\n",
       "       133, 134,  92, 104, 110,  97, 100, 118, 112, 138,  92, 118, 140,\n",
       "       128, 101,  75,  97, 111, 175,  94,  97, 132, 120, 107,  89,  86,\n",
       "       103, 108, 105, 117, 102, 104, 157, 104,  98, 109,  96, 103, 114,\n",
       "        99, 118, 150, 105,  87, 136, 162, 109, 107,  90, 112, 126, 116,\n",
       "       118, 138, 114, 126], dtype=int64)"
      ]
     },
     "execution_count": 11,
     "metadata": {},
     "output_type": "execute_result"
    }
   ],
   "source": [
    "# show duration values of movies as numpy arrays\n",
    "import numpy as np\n",
    "s1 = np.array(movies['duration'])\n",
    "s1"
   ]
  },
  {
   "cell_type": "markdown",
   "metadata": {},
   "source": [
    "## Applying functions to columns\n",
    "\n",
    "Use `.apply` function to apply any function to each element of a column."
   ]
  },
  {
   "cell_type": "code",
   "execution_count": 12,
   "metadata": {},
   "outputs": [
    {
     "data": {
      "text/plain": [
       "0                         THE SHAWSHANK REDEMPTION\n",
       "1                                    THE GODFATHER\n",
       "2                           THE GODFATHER: PART II\n",
       "3                                  THE DARK KNIGHT\n",
       "4                                     PULP FICTION\n",
       "5                                     12 ANGRY MEN\n",
       "6                   THE GOOD, THE BAD AND THE UGLY\n",
       "7    THE LORD OF THE RINGS: THE RETURN OF THE KING\n",
       "8                                 SCHINDLER'S LIST\n",
       "9                                       FIGHT CLUB\n",
       "Name: title, dtype: object"
      ]
     },
     "execution_count": 12,
     "metadata": {},
     "output_type": "execute_result"
    }
   ],
   "source": [
    "# convert all the movie titles to uppercase\n",
    "movies['title'].str.upper()\n",
    "movies['title'].apply(lambda x: x.upper()).head(10)"
   ]
  },
  {
   "cell_type": "markdown",
   "metadata": {},
   "source": [
    "## Plotting a column\n",
    "\n",
    "Use ``.plot()`` function!"
   ]
  },
  {
   "cell_type": "code",
   "execution_count": 13,
   "metadata": {},
   "outputs": [
    {
     "data": {
      "text/plain": [
       "[<matplotlib.lines.Line2D at 0x2760734b580>]"
      ]
     },
     "execution_count": 13,
     "metadata": {},
     "output_type": "execute_result"
    },
    {
     "data": {
      "image/png": "[encoded data removed]",
      "text/plain": [
       "<Figure size 432x288 with 1 Axes>"
      ]
     },
     "metadata": {
      "needs_background": "light"
     },
     "output_type": "display_data"
    }
   ],
   "source": [
    "# plot the bikers travelling to Berri1 over the year\n",
    "import matplotlib.pyplot as plt\n",
    "plt.plot(bikes['Date'],bikes['Berri1'])"
   ]
  },
  {
   "cell_type": "code",
   "execution_count": 14,
   "metadata": {},
   "outputs": [
    {
     "data": {
      "text/plain": [
       "[<matplotlib.lines.Line2D at 0x27607b47190>,\n",
       " <matplotlib.lines.Line2D at 0x27607b47310>,\n",
       " <matplotlib.lines.Line2D at 0x27607b47220>,\n",
       " <matplotlib.lines.Line2D at 0x27607b47400>,\n",
       " <matplotlib.lines.Line2D at 0x27607b47520>,\n",
       " <matplotlib.lines.Line2D at 0x27607b47640>,\n",
       " <matplotlib.lines.Line2D at 0x27607b47760>,\n",
       " <matplotlib.lines.Line2D at 0x27607b47880>,\n",
       " <matplotlib.lines.Line2D at 0x27607b479a0>]"
      ]
     },
     "execution_count": 14,
     "metadata": {},
     "output_type": "execute_result"
    },
    {
     "data": {
      "image/png": "[encoded data removed]",
      "text/plain": [
       "<Figure size 432x288 with 1 Axes>"
      ]
     },
     "metadata": {
      "needs_background": "light"
     },
     "output_type": "display_data"
    }
   ],
   "source": [
    "# plot all the columns of bikes_df\n",
    "plt.plot(bikes['Date'],bikes.loc[0:,'Rachel / Papineau' : 'Pont_Jacques_Cartier'])"
   ]
  },
  {
   "cell_type": "markdown",
   "metadata": {},
   "source": [
    "## Value counts\n",
    "\n",
    "Get count of unique values in a particular column/Series."
   ]
  },
  {
   "cell_type": "code",
   "execution_count": 15,
   "metadata": {},
   "outputs": [
    {
     "data": {
      "text/plain": [
       "array(['Crime', 'Action', 'Drama', 'Western', 'Adventure', 'Biography',\n",
       "       'Comedy', 'Animation', 'Mystery', 'Horror', 'Film-Noir', 'Sci-Fi',\n",
       "       'History', 'Thriller', 'Family', 'Fantasy'], dtype=object)"
      ]
     },
     "execution_count": 15,
     "metadata": {},
     "output_type": "execute_result"
    }
   ],
   "source": [
    "# what are the unique genre in imdb_df?\n",
    "pd.unique(movies['genre'])"
   ]
  },
  {
   "cell_type": "code",
   "execution_count": 16,
   "metadata": {},
   "outputs": [
    {
     "data": {
      "text/plain": [
       "<BarContainer object of 16 artists>"
      ]
     },
     "execution_count": 16,
     "metadata": {},
     "output_type": "execute_result"
    },
    {
     "data": {
      "image/png": "[encoded data removed]",
      "text/plain": [
       "<Figure size 432x288 with 1 Axes>"
      ]
     },
     "metadata": {
      "needs_background": "light"
     },
     "output_type": "display_data"
    }
   ],
   "source": [
    "# plotting value counts of unique genres as a bar chart\n",
    "import numpy as np\n",
    "genre_count = movies['genre'].value_counts()\n",
    "\n",
    "df_temp=pd.DataFrame(genre_count)\n",
    "n=len(df_temp.index)\n",
    "left=np.arange(1,1*n+1,1)\n",
    "height=list(df_temp['genre'])\n",
    "tick_label=df_temp.index.values\n",
    "plt.bar(left,height,tick_label=tick_label,width=0.8,color=['red','blue'])"
   ]
  },
  {
   "cell_type": "code",
   "execution_count": 17,
   "metadata": {},
   "outputs": [
    {
     "data": {
      "text/plain": [
       "([<matplotlib.patches.Wedge at 0x27607c6f100>,\n",
       "  <matplotlib.patches.Wedge at 0x27607c6fb20>,\n",
       "  <matplotlib.patches.Wedge at 0x27607c7e4f0>,\n",
       "  <matplotlib.patches.Wedge at 0x27607c7ee80>,\n",
       "  <matplotlib.patches.Wedge at 0x27607c8a850>,\n",
       "  <matplotlib.patches.Wedge at 0x27607c98220>,\n",
       "  <matplotlib.patches.Wedge at 0x27607c98bb0>,\n",
       "  <matplotlib.patches.Wedge at 0x27607ca6580>,\n",
       "  <matplotlib.patches.Wedge at 0x27607ca6f10>,\n",
       "  <matplotlib.patches.Wedge at 0x27607cb48e0>,\n",
       "  <matplotlib.patches.Wedge at 0x27607c41c10>,\n",
       "  <matplotlib.patches.Wedge at 0x27607cc2c10>,\n",
       "  <matplotlib.patches.Wedge at 0x27607cce5e0>,\n",
       "  <matplotlib.patches.Wedge at 0x27607ccef70>,\n",
       "  <matplotlib.patches.Wedge at 0x27607cde940>,\n",
       "  <matplotlib.patches.Wedge at 0x27607cec310>],\n",
       " [Text(-1.0274745282464217, 0.8286712821166142, 'Drama'),\n",
       "  Text(-0.9975894197538747, -0.8644161900352906, 'Comedy'),\n",
       "  Text(0.10578285787303313, -1.3157545314306214, 'Action'),\n",
       "  Text(1.0458280991172673, -0.8053841239413425, 'Crime'),\n",
       "  Text(1.3199167456726915, -0.014825130448378293, 'Biography'),\n",
       "  Text(1.1729390971522788, 0.6054864774473472, 'Adventure'),\n",
       "  Text(0.803705051392958, 1.0471189953226152, 'Animation'),\n",
       "  Text(0.4682307236733332, 1.2341636801528177, 'Horror'),\n",
       "  Text(0.28575766876734426, 1.2886980075799965, 'Mystery'),\n",
       "  Text(0.18156426116760085, 1.307453409902878, 'Western'),\n",
       "  Text(0.12266251087976231, 1.3142883657800035, 'Sci-Fi'),\n",
       "  Text(0.08043132992223864, 1.3175472671471564, 'Thriller'),\n",
       "  Text(0.04658466625297828, 1.3191777245201266, 'Film-Noir'),\n",
       "  Text(0.025413494801404164, 1.3197553387965435, 'Family'),\n",
       "  Text(0.01270730244677972, 1.3199388336072722, 'History'),\n",
       "  Text(0.004235780582030495, 1.3199932038320732, 'Fantasy')],\n",
       " [Text(-0.5604406517707754, 0.4520025175181532, '28.4%'),\n",
       "  Text(-0.5441396835021135, -0.4714997400192494, '15.9%'),\n",
       "  Text(0.05769974065801806, -0.717684289871248, '13.9%'),\n",
       "  Text(0.5704516904276002, -0.43930043124073226, '12.7%'),\n",
       "  Text(0.7199545885487407, -0.008086434790024523, '7.9%'),\n",
       "  Text(0.6397849620830612, 0.3302653513349166, '7.7%'),\n",
       "  Text(0.438384573487068, 0.5711558156305173, '6.3%'),\n",
       "  Text(0.2553985765490908, 0.6731801891742643, '3.0%'),\n",
       "  Text(0.1558678193276423, 0.7029261859527254, '1.6%'),\n",
       "  Text(0.09903505154596409, 0.7131564054015698, '0.9%'),\n",
       "  Text(0.06690682411623398, 0.7168845631527291, '0.5%'),\n",
       "  Text(0.043871634503039256, 0.7186621457166307, '0.5%'),\n",
       "  Text(0.025409817956169967, 0.7195514861018871, '0.3%'),\n",
       "  Text(0.01386190625531136, 0.7198665484344782, '0.2%'),\n",
       "  Text(0.006931255880061664, 0.7199666365130575, '0.1%'),\n",
       "  Text(0.002310425772016633, 0.7199962929993126, '0.1%')])"
      ]
     },
     "execution_count": 17,
     "metadata": {},
     "output_type": "execute_result"
    },
    {
     "data": {
      "image/png": "[encoded data removed]",
      "text/plain": [
       "<Figure size 432x288 with 1 Axes>"
      ]
     },
     "metadata": {},
     "output_type": "display_data"
    }
   ],
   "source": [
    "# plotting value counts of unique genres as a pie chart\n",
    "activities = df_temp.index.values\n",
    "slices=list(df_temp['genre'])\n",
    "plt.pie(slices,labels=activities,startangle=90,shadow=True,radius=1.2,autopct='%1.1f%%')"
   ]
  },
  {
   "cell_type": "markdown",
   "metadata": {},
   "source": [
    "## Index\n",
    "\n",
    "### DATAFRAME = COLUMNS + INDEX + ND DATA\n",
    "\n",
    "### SERIES = INDEX + 1-D DATA\n",
    "\n",
    "**Index** or (**row labels**) is one of the fundamental data structure of pandas. It can be thought of as an **immutable array** and an **ordered set**.\n",
    "\n",
    "> Every row is uniquely identified by its index value."
   ]
  },
  {
   "cell_type": "code",
   "execution_count": 18,
   "metadata": {},
   "outputs": [
    {
     "data": {
      "text/plain": [
       "array([  0,   1,   2,   3,   4,   5,   6,   7,   8,   9,  10,  11,  12,\n",
       "        13,  14,  15,  16,  17,  18,  19,  20,  21,  22,  23,  24,  25,\n",
       "        26,  27,  28,  29,  30,  31,  32,  33,  34,  35,  36,  37,  38,\n",
       "        39,  40,  41,  42,  43,  44,  45,  46,  47,  48,  49,  50,  51,\n",
       "        52,  53,  54,  55,  56,  57,  58,  59,  60,  61,  62,  63,  64,\n",
       "        65,  66,  67,  68,  69,  70,  71,  72,  73,  74,  75,  76,  77,\n",
       "        78,  79,  80,  81,  82,  83,  84,  85,  86,  87,  88,  89,  90,\n",
       "        91,  92,  93,  94,  95,  96,  97,  98,  99, 100, 101, 102, 103,\n",
       "       104, 105, 106, 107, 108, 109, 110, 111, 112, 113, 114, 115, 116,\n",
       "       117, 118, 119, 120, 121, 122, 123, 124, 125, 126, 127, 128, 129,\n",
       "       130, 131, 132, 133, 134, 135, 136, 137, 138, 139, 140, 141, 142,\n",
       "       143, 144, 145, 146, 147, 148, 149, 150, 151, 152, 153, 154, 155,\n",
       "       156, 157, 158, 159, 160, 161, 162, 163, 164, 165, 166, 167, 168,\n",
       "       169, 170, 171, 172, 173, 174, 175, 176, 177, 178, 179, 180, 181,\n",
       "       182, 183, 184, 185, 186, 187, 188, 189, 190, 191, 192, 193, 194,\n",
       "       195, 196, 197, 198, 199, 200, 201, 202, 203, 204, 205, 206, 207,\n",
       "       208, 209, 210, 211, 212, 213, 214, 215, 216, 217, 218, 219, 220,\n",
       "       221, 222, 223, 224, 225, 226, 227, 228, 229, 230, 231, 232, 233,\n",
       "       234, 235, 236, 237, 238, 239, 240, 241, 242, 243, 244, 245, 246,\n",
       "       247, 248, 249, 250, 251, 252, 253, 254, 255, 256, 257, 258, 259,\n",
       "       260, 261, 262, 263, 264, 265, 266, 267, 268, 269, 270, 271, 272,\n",
       "       273, 274, 275, 276, 277, 278, 279, 280, 281, 282, 283, 284, 285,\n",
       "       286, 287, 288, 289, 290, 291, 292, 293, 294, 295, 296, 297, 298,\n",
       "       299, 300, 301, 302, 303, 304, 305, 306, 307, 308, 309, 310, 311,\n",
       "       312, 313, 314, 315, 316, 317, 318, 319, 320, 321, 322, 323, 324,\n",
       "       325, 326, 327, 328, 329, 330, 331, 332, 333, 334, 335, 336, 337,\n",
       "       338, 339, 340, 341, 342, 343, 344, 345, 346, 347, 348, 349, 350,\n",
       "       351, 352, 353, 354, 355, 356, 357, 358, 359, 360, 361, 362, 363,\n",
       "       364, 365], dtype=int64)"
      ]
     },
     "execution_count": 18,
     "metadata": {},
     "output_type": "execute_result"
    }
   ],
   "source": [
    "# show index of bikes_df\n",
    "bikes.index\n",
    "bikes.index.values"
   ]
  },
  {
   "cell_type": "code",
   "execution_count": 19,
   "metadata": {},
   "outputs": [
    {
     "data": {
      "text/html": [
       "<div>\n",
       "<style scoped>\n",
       "    .dataframe tbody tr th:only-of-type {\n",
       "        vertical-align: middle;\n",
       "    }\n",
       "\n",
       "    .dataframe tbody tr th {\n",
       "        vertical-align: top;\n",
       "    }\n",
       "\n",
       "    .dataframe thead th {\n",
       "        text-align: right;\n",
       "    }\n",
       "</style>\n",
       "<table border=\"1\" class=\"dataframe\">\n",
       "  <thead>\n",
       "    <tr style=\"text-align: right;\">\n",
       "      <th></th>\n",
       "      <th>Date</th>\n",
       "      <th>Unnamed: 1</th>\n",
       "      <th>Rachel / Papineau</th>\n",
       "      <th>Berri1</th>\n",
       "      <th>Maisonneuve_2</th>\n",
       "      <th>Maisonneuve_1</th>\n",
       "      <th>Brébeuf</th>\n",
       "      <th>Parc</th>\n",
       "      <th>PierDup</th>\n",
       "      <th>CSC (Côte Sainte-Catherine)</th>\n",
       "      <th>Pont_Jacques_Cartier</th>\n",
       "    </tr>\n",
       "  </thead>\n",
       "  <tbody>\n",
       "    <tr>\n",
       "      <th>0</th>\n",
       "      <td>2012-01-01</td>\n",
       "      <td>00:00</td>\n",
       "      <td>16</td>\n",
       "      <td>35</td>\n",
       "      <td>51</td>\n",
       "      <td>38</td>\n",
       "      <td>5.0</td>\n",
       "      <td>26</td>\n",
       "      <td>10</td>\n",
       "      <td>0</td>\n",
       "      <td>27.0</td>\n",
       "    </tr>\n",
       "  </tbody>\n",
       "</table>\n",
       "</div>"
      ],
      "text/plain": [
       "        Date Unnamed: 1  Rachel / Papineau  Berri1  Maisonneuve_2  \\\n",
       "0 2012-01-01      00:00                 16      35             51   \n",
       "\n",
       "   Maisonneuve_1  Brébeuf  Parc  PierDup  CSC (Côte Sainte-Catherine)  \\\n",
       "0             38      5.0    26       10                            0   \n",
       "\n",
       "   Pont_Jacques_Cartier  \n",
       "0                  27.0  "
      ]
     },
     "execution_count": 19,
     "metadata": {},
     "output_type": "execute_result"
    }
   ],
   "source": [
    "# get row for date 2012-01-01\n",
    "filt=(bikes['Date']=='2012-01-01')\n",
    "bikes[filt]"
   ]
  },
  {
   "cell_type": "markdown",
   "metadata": {},
   "source": [
    "#### To get row by integer index:\n",
    "\n",
    "Use ``.iloc[]`` for purely integer-location based indexing for selection by position."
   ]
  },
  {
   "cell_type": "code",
   "execution_count": 20,
   "metadata": {},
   "outputs": [
    {
     "data": {
      "text/plain": [
       "star_rating                                                     8.8\n",
       "title             The Lord of the Rings: The Fellowship of the Ring\n",
       "content_rating                                                PG-13\n",
       "genre                                                     Adventure\n",
       "duration                                                        178\n",
       "actors_list       [u'Elijah Wood', u'Ian McKellen', u'Orlando Bl...\n",
       "Name: 10, dtype: object"
      ]
     },
     "execution_count": 20,
     "metadata": {},
     "output_type": "execute_result"
    }
   ],
   "source": [
    "# show 11th row of imdb_df using iloc\n",
    "movies.iloc[10]"
   ]
  },
  {
   "cell_type": "markdown",
   "metadata": {},
   "source": [
    "## Selecting rows where column has a particular value"
   ]
  },
  {
   "cell_type": "code",
   "execution_count": 21,
   "metadata": {},
   "outputs": [
    {
     "data": {
      "text/html": [
       "<div>\n",
       "<style scoped>\n",
       "    .dataframe tbody tr th:only-of-type {\n",
       "        vertical-align: middle;\n",
       "    }\n",
       "\n",
       "    .dataframe tbody tr th {\n",
       "        vertical-align: top;\n",
       "    }\n",
       "\n",
       "    .dataframe thead th {\n",
       "        text-align: right;\n",
       "    }\n",
       "</style>\n",
       "<table border=\"1\" class=\"dataframe\">\n",
       "  <thead>\n",
       "    <tr style=\"text-align: right;\">\n",
       "      <th></th>\n",
       "      <th>star_rating</th>\n",
       "      <th>title</th>\n",
       "      <th>content_rating</th>\n",
       "      <th>genre</th>\n",
       "      <th>duration</th>\n",
       "      <th>actors_list</th>\n",
       "    </tr>\n",
       "  </thead>\n",
       "  <tbody>\n",
       "    <tr>\n",
       "      <th>7</th>\n",
       "      <td>8.9</td>\n",
       "      <td>The Lord of the Rings: The Return of the King</td>\n",
       "      <td>PG-13</td>\n",
       "      <td>Adventure</td>\n",
       "      <td>201</td>\n",
       "      <td>[u'Elijah Wood', u'Viggo Mortensen', u'Ian McK...</td>\n",
       "    </tr>\n",
       "    <tr>\n",
       "      <th>10</th>\n",
       "      <td>8.8</td>\n",
       "      <td>The Lord of the Rings: The Fellowship of the Ring</td>\n",
       "      <td>PG-13</td>\n",
       "      <td>Adventure</td>\n",
       "      <td>178</td>\n",
       "      <td>[u'Elijah Wood', u'Ian McKellen', u'Orlando Bl...</td>\n",
       "    </tr>\n",
       "    <tr>\n",
       "      <th>14</th>\n",
       "      <td>8.8</td>\n",
       "      <td>The Lord of the Rings: The Two Towers</td>\n",
       "      <td>PG-13</td>\n",
       "      <td>Adventure</td>\n",
       "      <td>179</td>\n",
       "      <td>[u'Elijah Wood', u'Ian McKellen', u'Viggo Mort...</td>\n",
       "    </tr>\n",
       "    <tr>\n",
       "      <th>15</th>\n",
       "      <td>8.7</td>\n",
       "      <td>Interstellar</td>\n",
       "      <td>PG-13</td>\n",
       "      <td>Adventure</td>\n",
       "      <td>169</td>\n",
       "      <td>[u'Matthew McConaughey', u'Anne Hathaway', u'J...</td>\n",
       "    </tr>\n",
       "    <tr>\n",
       "      <th>54</th>\n",
       "      <td>8.5</td>\n",
       "      <td>Back to the Future</td>\n",
       "      <td>PG</td>\n",
       "      <td>Adventure</td>\n",
       "      <td>116</td>\n",
       "      <td>[u'Michael J. Fox', u'Christopher Lloyd', u'Le...</td>\n",
       "    </tr>\n",
       "    <tr>\n",
       "      <th>...</th>\n",
       "      <td>...</td>\n",
       "      <td>...</td>\n",
       "      <td>...</td>\n",
       "      <td>...</td>\n",
       "      <td>...</td>\n",
       "      <td>...</td>\n",
       "    </tr>\n",
       "    <tr>\n",
       "      <th>936</th>\n",
       "      <td>7.4</td>\n",
       "      <td>True Grit</td>\n",
       "      <td>NaN</td>\n",
       "      <td>Adventure</td>\n",
       "      <td>128</td>\n",
       "      <td>[u'John Wayne', u'Kim Darby', u'Glen Campbell']</td>\n",
       "    </tr>\n",
       "    <tr>\n",
       "      <th>937</th>\n",
       "      <td>7.4</td>\n",
       "      <td>Labyrinth</td>\n",
       "      <td>PG</td>\n",
       "      <td>Adventure</td>\n",
       "      <td>101</td>\n",
       "      <td>[u'David Bowie', u'Jennifer Connelly', u'Toby ...</td>\n",
       "    </tr>\n",
       "    <tr>\n",
       "      <th>943</th>\n",
       "      <td>7.4</td>\n",
       "      <td>The Bucket List</td>\n",
       "      <td>PG-13</td>\n",
       "      <td>Adventure</td>\n",
       "      <td>97</td>\n",
       "      <td>[u'Jack Nicholson', u'Morgan Freeman', u'Sean ...</td>\n",
       "    </tr>\n",
       "    <tr>\n",
       "      <th>953</th>\n",
       "      <td>7.4</td>\n",
       "      <td>The NeverEnding Story</td>\n",
       "      <td>PG</td>\n",
       "      <td>Adventure</td>\n",
       "      <td>102</td>\n",
       "      <td>[u'Noah Hathaway', u'Barret Oliver', u'Tami St...</td>\n",
       "    </tr>\n",
       "    <tr>\n",
       "      <th>975</th>\n",
       "      <td>7.4</td>\n",
       "      <td>Back to the Future Part III</td>\n",
       "      <td>PG</td>\n",
       "      <td>Adventure</td>\n",
       "      <td>118</td>\n",
       "      <td>[u'Michael J. Fox', u'Christopher Lloyd', u'Ma...</td>\n",
       "    </tr>\n",
       "  </tbody>\n",
       "</table>\n",
       "<p>75 rows × 6 columns</p>\n",
       "</div>"
      ],
      "text/plain": [
       "     star_rating                                              title  \\\n",
       "7            8.9      The Lord of the Rings: The Return of the King   \n",
       "10           8.8  The Lord of the Rings: The Fellowship of the Ring   \n",
       "14           8.8              The Lord of the Rings: The Two Towers   \n",
       "15           8.7                                       Interstellar   \n",
       "54           8.5                                 Back to the Future   \n",
       "..           ...                                                ...   \n",
       "936          7.4                                          True Grit   \n",
       "937          7.4                                          Labyrinth   \n",
       "943          7.4                                    The Bucket List   \n",
       "953          7.4                              The NeverEnding Story   \n",
       "975          7.4                        Back to the Future Part III   \n",
       "\n",
       "    content_rating      genre  duration  \\\n",
       "7            PG-13  Adventure       201   \n",
       "10           PG-13  Adventure       178   \n",
       "14           PG-13  Adventure       179   \n",
       "15           PG-13  Adventure       169   \n",
       "54              PG  Adventure       116   \n",
       "..             ...        ...       ...   \n",
       "936            NaN  Adventure       128   \n",
       "937             PG  Adventure       101   \n",
       "943          PG-13  Adventure        97   \n",
       "953             PG  Adventure       102   \n",
       "975             PG  Adventure       118   \n",
       "\n",
       "                                           actors_list  \n",
       "7    [u'Elijah Wood', u'Viggo Mortensen', u'Ian McK...  \n",
       "10   [u'Elijah Wood', u'Ian McKellen', u'Orlando Bl...  \n",
       "14   [u'Elijah Wood', u'Ian McKellen', u'Viggo Mort...  \n",
       "15   [u'Matthew McConaughey', u'Anne Hathaway', u'J...  \n",
       "54   [u'Michael J. Fox', u'Christopher Lloyd', u'Le...  \n",
       "..                                                 ...  \n",
       "936    [u'John Wayne', u'Kim Darby', u'Glen Campbell']  \n",
       "937  [u'David Bowie', u'Jennifer Connelly', u'Toby ...  \n",
       "943  [u'Jack Nicholson', u'Morgan Freeman', u'Sean ...  \n",
       "953  [u'Noah Hathaway', u'Barret Oliver', u'Tami St...  \n",
       "975  [u'Michael J. Fox', u'Christopher Lloyd', u'Ma...  \n",
       "\n",
       "[75 rows x 6 columns]"
      ]
     },
     "execution_count": 21,
     "metadata": {},
     "output_type": "execute_result"
    }
   ],
   "source": [
    "# select only those movies where genre is adventure\n",
    "filt=(movies['genre']=='Adventure')\n",
    "movies.loc[filt]"
   ]
  },
  {
   "cell_type": "code",
   "execution_count": 22,
   "metadata": {},
   "outputs": [
    {
     "data": {
      "text/plain": [
       "Drama        36\n",
       "Action       20\n",
       "Adventure    17\n",
       "Crime        13\n",
       "Biography    12\n",
       "Western       6\n",
       "Comedy        6\n",
       "Mystery       3\n",
       "Horror        1\n",
       "Animation     1\n",
       "Name: genre, dtype: int64"
      ]
     },
     "execution_count": 22,
     "metadata": {},
     "output_type": "execute_result"
    }
   ],
   "source": [
    "# which genre has highest number of movies with star rating above 8 and duration more than 130 minutes?\n",
    "filt=(movies['star_rating']>8)&(movies['duration']>130)\n",
    "movies.loc[filt,'genre'].value_counts()"
   ]
  },
  {
   "cell_type": "markdown",
   "metadata": {},
   "source": [
    "## Adding a new column to DataFrame"
   ]
  },
  {
   "cell_type": "code",
   "execution_count": 23,
   "metadata": {},
   "outputs": [
    {
     "data": {
      "text/html": [
       "<div>\n",
       "<style scoped>\n",
       "    .dataframe tbody tr th:only-of-type {\n",
       "        vertical-align: middle;\n",
       "    }\n",
       "\n",
       "    .dataframe tbody tr th {\n",
       "        vertical-align: top;\n",
       "    }\n",
       "\n",
       "    .dataframe thead th {\n",
       "        text-align: right;\n",
       "    }\n",
       "</style>\n",
       "<table border=\"1\" class=\"dataframe\">\n",
       "  <thead>\n",
       "    <tr style=\"text-align: right;\">\n",
       "      <th></th>\n",
       "      <th>Date</th>\n",
       "      <th>Unnamed: 1</th>\n",
       "      <th>Rachel / Papineau</th>\n",
       "      <th>Berri1</th>\n",
       "      <th>Maisonneuve_2</th>\n",
       "      <th>Maisonneuve_1</th>\n",
       "      <th>Brébeuf</th>\n",
       "      <th>Parc</th>\n",
       "      <th>PierDup</th>\n",
       "      <th>CSC (Côte Sainte-Catherine)</th>\n",
       "      <th>Pont_Jacques_Cartier</th>\n",
       "      <th>Weekday</th>\n",
       "    </tr>\n",
       "  </thead>\n",
       "  <tbody>\n",
       "    <tr>\n",
       "      <th>0</th>\n",
       "      <td>2012-01-01</td>\n",
       "      <td>00:00</td>\n",
       "      <td>16</td>\n",
       "      <td>35</td>\n",
       "      <td>51</td>\n",
       "      <td>38</td>\n",
       "      <td>5.0</td>\n",
       "      <td>26</td>\n",
       "      <td>10</td>\n",
       "      <td>0</td>\n",
       "      <td>27.0</td>\n",
       "      <td>Sunday</td>\n",
       "    </tr>\n",
       "    <tr>\n",
       "      <th>1</th>\n",
       "      <td>2012-01-02</td>\n",
       "      <td>00:00</td>\n",
       "      <td>43</td>\n",
       "      <td>83</td>\n",
       "      <td>153</td>\n",
       "      <td>68</td>\n",
       "      <td>11.0</td>\n",
       "      <td>53</td>\n",
       "      <td>6</td>\n",
       "      <td>1</td>\n",
       "      <td>21.0</td>\n",
       "      <td>Monday</td>\n",
       "    </tr>\n",
       "    <tr>\n",
       "      <th>2</th>\n",
       "      <td>2012-01-03</td>\n",
       "      <td>00:00</td>\n",
       "      <td>58</td>\n",
       "      <td>135</td>\n",
       "      <td>248</td>\n",
       "      <td>104</td>\n",
       "      <td>2.0</td>\n",
       "      <td>89</td>\n",
       "      <td>3</td>\n",
       "      <td>2</td>\n",
       "      <td>15.0</td>\n",
       "      <td>Tuesday</td>\n",
       "    </tr>\n",
       "    <tr>\n",
       "      <th>3</th>\n",
       "      <td>2012-01-04</td>\n",
       "      <td>00:00</td>\n",
       "      <td>61</td>\n",
       "      <td>144</td>\n",
       "      <td>318</td>\n",
       "      <td>116</td>\n",
       "      <td>2.0</td>\n",
       "      <td>111</td>\n",
       "      <td>8</td>\n",
       "      <td>1</td>\n",
       "      <td>19.0</td>\n",
       "      <td>Wednesday</td>\n",
       "    </tr>\n",
       "    <tr>\n",
       "      <th>4</th>\n",
       "      <td>2012-01-05</td>\n",
       "      <td>00:00</td>\n",
       "      <td>95</td>\n",
       "      <td>197</td>\n",
       "      <td>330</td>\n",
       "      <td>124</td>\n",
       "      <td>6.0</td>\n",
       "      <td>97</td>\n",
       "      <td>13</td>\n",
       "      <td>2</td>\n",
       "      <td>16.0</td>\n",
       "      <td>Thursday</td>\n",
       "    </tr>\n",
       "  </tbody>\n",
       "</table>\n",
       "</div>"
      ],
      "text/plain": [
       "        Date Unnamed: 1  Rachel / Papineau  Berri1  Maisonneuve_2  \\\n",
       "0 2012-01-01      00:00                 16      35             51   \n",
       "1 2012-01-02      00:00                 43      83            153   \n",
       "2 2012-01-03      00:00                 58     135            248   \n",
       "3 2012-01-04      00:00                 61     144            318   \n",
       "4 2012-01-05      00:00                 95     197            330   \n",
       "\n",
       "   Maisonneuve_1  Brébeuf  Parc  PierDup  CSC (Côte Sainte-Catherine)  \\\n",
       "0             38      5.0    26       10                            0   \n",
       "1             68     11.0    53        6                            1   \n",
       "2            104      2.0    89        3                            2   \n",
       "3            116      2.0   111        8                            1   \n",
       "4            124      6.0    97       13                            2   \n",
       "\n",
       "   Pont_Jacques_Cartier    Weekday  \n",
       "0                  27.0     Sunday  \n",
       "1                  21.0     Monday  \n",
       "2                  15.0    Tuesday  \n",
       "3                  19.0  Wednesday  \n",
       "4                  16.0   Thursday  "
      ]
     },
     "execution_count": 23,
     "metadata": {},
     "output_type": "execute_result"
    }
   ],
   "source": [
    "# add a weekday column to bikes_df\n",
    "bikes['Weekday']=bikes['Date'].dt.day_name()\n",
    "bikes.head(5)"
   ]
  },
  {
   "cell_type": "markdown",
   "metadata": {},
   "source": [
    "## Deleting an existing column from DataFrame"
   ]
  },
  {
   "cell_type": "code",
   "execution_count": 24,
   "metadata": {},
   "outputs": [],
   "source": [
    "# remove column 'Unnamed: 1' from bikes_df\n",
    "bikes.drop(columns=['Unnamed: 1'],inplace=True)"
   ]
  },
  {
   "cell_type": "markdown",
   "metadata": {},
   "source": [
    "## Deleting a row in DataFrame"
   ]
  },
  {
   "cell_type": "code",
   "execution_count": 25,
   "metadata": {},
   "outputs": [
    {
     "data": {
      "text/html": [
       "<div>\n",
       "<style scoped>\n",
       "    .dataframe tbody tr th:only-of-type {\n",
       "        vertical-align: middle;\n",
       "    }\n",
       "\n",
       "    .dataframe tbody tr th {\n",
       "        vertical-align: top;\n",
       "    }\n",
       "\n",
       "    .dataframe thead th {\n",
       "        text-align: right;\n",
       "    }\n",
       "</style>\n",
       "<table border=\"1\" class=\"dataframe\">\n",
       "  <thead>\n",
       "    <tr style=\"text-align: right;\">\n",
       "      <th></th>\n",
       "      <th>Date</th>\n",
       "      <th>Rachel / Papineau</th>\n",
       "      <th>Berri1</th>\n",
       "      <th>Maisonneuve_2</th>\n",
       "      <th>Maisonneuve_1</th>\n",
       "      <th>Brébeuf</th>\n",
       "      <th>Parc</th>\n",
       "      <th>PierDup</th>\n",
       "      <th>CSC (Côte Sainte-Catherine)</th>\n",
       "      <th>Pont_Jacques_Cartier</th>\n",
       "      <th>Weekday</th>\n",
       "    </tr>\n",
       "  </thead>\n",
       "  <tbody>\n",
       "    <tr>\n",
       "      <th>1</th>\n",
       "      <td>2012-01-02</td>\n",
       "      <td>43</td>\n",
       "      <td>83</td>\n",
       "      <td>153</td>\n",
       "      <td>68</td>\n",
       "      <td>11.0</td>\n",
       "      <td>53</td>\n",
       "      <td>6</td>\n",
       "      <td>1</td>\n",
       "      <td>21.0</td>\n",
       "      <td>Monday</td>\n",
       "    </tr>\n",
       "    <tr>\n",
       "      <th>2</th>\n",
       "      <td>2012-01-03</td>\n",
       "      <td>58</td>\n",
       "      <td>135</td>\n",
       "      <td>248</td>\n",
       "      <td>104</td>\n",
       "      <td>2.0</td>\n",
       "      <td>89</td>\n",
       "      <td>3</td>\n",
       "      <td>2</td>\n",
       "      <td>15.0</td>\n",
       "      <td>Tuesday</td>\n",
       "    </tr>\n",
       "    <tr>\n",
       "      <th>3</th>\n",
       "      <td>2012-01-04</td>\n",
       "      <td>61</td>\n",
       "      <td>144</td>\n",
       "      <td>318</td>\n",
       "      <td>116</td>\n",
       "      <td>2.0</td>\n",
       "      <td>111</td>\n",
       "      <td>8</td>\n",
       "      <td>1</td>\n",
       "      <td>19.0</td>\n",
       "      <td>Wednesday</td>\n",
       "    </tr>\n",
       "    <tr>\n",
       "      <th>4</th>\n",
       "      <td>2012-01-05</td>\n",
       "      <td>95</td>\n",
       "      <td>197</td>\n",
       "      <td>330</td>\n",
       "      <td>124</td>\n",
       "      <td>6.0</td>\n",
       "      <td>97</td>\n",
       "      <td>13</td>\n",
       "      <td>2</td>\n",
       "      <td>16.0</td>\n",
       "      <td>Thursday</td>\n",
       "    </tr>\n",
       "    <tr>\n",
       "      <th>5</th>\n",
       "      <td>2012-01-06</td>\n",
       "      <td>75</td>\n",
       "      <td>146</td>\n",
       "      <td>244</td>\n",
       "      <td>98</td>\n",
       "      <td>4.0</td>\n",
       "      <td>86</td>\n",
       "      <td>4</td>\n",
       "      <td>0</td>\n",
       "      <td>17.0</td>\n",
       "      <td>Friday</td>\n",
       "    </tr>\n",
       "    <tr>\n",
       "      <th>...</th>\n",
       "      <td>...</td>\n",
       "      <td>...</td>\n",
       "      <td>...</td>\n",
       "      <td>...</td>\n",
       "      <td>...</td>\n",
       "      <td>...</td>\n",
       "      <td>...</td>\n",
       "      <td>...</td>\n",
       "      <td>...</td>\n",
       "      <td>...</td>\n",
       "      <td>...</td>\n",
       "    </tr>\n",
       "    <tr>\n",
       "      <th>361</th>\n",
       "      <td>2012-12-27</td>\n",
       "      <td>8</td>\n",
       "      <td>12</td>\n",
       "      <td>7</td>\n",
       "      <td>4</td>\n",
       "      <td>NaN</td>\n",
       "      <td>1</td>\n",
       "      <td>2</td>\n",
       "      <td>0</td>\n",
       "      <td>NaN</td>\n",
       "      <td>Thursday</td>\n",
       "    </tr>\n",
       "    <tr>\n",
       "      <th>362</th>\n",
       "      <td>2012-12-28</td>\n",
       "      <td>0</td>\n",
       "      <td>35</td>\n",
       "      <td>3</td>\n",
       "      <td>38</td>\n",
       "      <td>NaN</td>\n",
       "      <td>0</td>\n",
       "      <td>0</td>\n",
       "      <td>0</td>\n",
       "      <td>NaN</td>\n",
       "      <td>Friday</td>\n",
       "    </tr>\n",
       "    <tr>\n",
       "      <th>363</th>\n",
       "      <td>2012-12-29</td>\n",
       "      <td>0</td>\n",
       "      <td>27</td>\n",
       "      <td>8</td>\n",
       "      <td>42</td>\n",
       "      <td>NaN</td>\n",
       "      <td>9</td>\n",
       "      <td>0</td>\n",
       "      <td>0</td>\n",
       "      <td>NaN</td>\n",
       "      <td>Saturday</td>\n",
       "    </tr>\n",
       "    <tr>\n",
       "      <th>364</th>\n",
       "      <td>2012-12-30</td>\n",
       "      <td>0</td>\n",
       "      <td>5</td>\n",
       "      <td>1</td>\n",
       "      <td>5</td>\n",
       "      <td>NaN</td>\n",
       "      <td>6</td>\n",
       "      <td>0</td>\n",
       "      <td>0</td>\n",
       "      <td>NaN</td>\n",
       "      <td>Sunday</td>\n",
       "    </tr>\n",
       "    <tr>\n",
       "      <th>365</th>\n",
       "      <td>2012-12-31</td>\n",
       "      <td>0</td>\n",
       "      <td>4</td>\n",
       "      <td>3</td>\n",
       "      <td>8</td>\n",
       "      <td>NaN</td>\n",
       "      <td>12</td>\n",
       "      <td>0</td>\n",
       "      <td>0</td>\n",
       "      <td>NaN</td>\n",
       "      <td>Monday</td>\n",
       "    </tr>\n",
       "  </tbody>\n",
       "</table>\n",
       "<p>365 rows × 11 columns</p>\n",
       "</div>"
      ],
      "text/plain": [
       "          Date  Rachel / Papineau  Berri1  Maisonneuve_2  Maisonneuve_1  \\\n",
       "1   2012-01-02                 43      83            153             68   \n",
       "2   2012-01-03                 58     135            248            104   \n",
       "3   2012-01-04                 61     144            318            116   \n",
       "4   2012-01-05                 95     197            330            124   \n",
       "5   2012-01-06                 75     146            244             98   \n",
       "..         ...                ...     ...            ...            ...   \n",
       "361 2012-12-27                  8      12              7              4   \n",
       "362 2012-12-28                  0      35              3             38   \n",
       "363 2012-12-29                  0      27              8             42   \n",
       "364 2012-12-30                  0       5              1              5   \n",
       "365 2012-12-31                  0       4              3              8   \n",
       "\n",
       "     Brébeuf  Parc  PierDup  CSC (Côte Sainte-Catherine)  \\\n",
       "1       11.0    53        6                            1   \n",
       "2        2.0    89        3                            2   \n",
       "3        2.0   111        8                            1   \n",
       "4        6.0    97       13                            2   \n",
       "5        4.0    86        4                            0   \n",
       "..       ...   ...      ...                          ...   \n",
       "361      NaN     1        2                            0   \n",
       "362      NaN     0        0                            0   \n",
       "363      NaN     9        0                            0   \n",
       "364      NaN     6        0                            0   \n",
       "365      NaN    12        0                            0   \n",
       "\n",
       "     Pont_Jacques_Cartier    Weekday  \n",
       "1                    21.0     Monday  \n",
       "2                    15.0    Tuesday  \n",
       "3                    19.0  Wednesday  \n",
       "4                    16.0   Thursday  \n",
       "5                    17.0     Friday  \n",
       "..                    ...        ...  \n",
       "361                   NaN   Thursday  \n",
       "362                   NaN     Friday  \n",
       "363                   NaN   Saturday  \n",
       "364                   NaN     Sunday  \n",
       "365                   NaN     Monday  \n",
       "\n",
       "[365 rows x 11 columns]"
      ]
     },
     "execution_count": 25,
     "metadata": {},
     "output_type": "execute_result"
    }
   ],
   "source": [
    "# remove row no. 1 from bikes_df\n",
    "bikes.drop([0])"
   ]
  },
  {
   "cell_type": "markdown",
   "metadata": {},
   "source": [
    "## Group By\n",
    "\n",
    "Any groupby operation involves one of the following operations on the original object. They are −\n",
    "\n",
    "- Splitting the Object\n",
    "\n",
    "- Applying a function\n",
    "\n",
    "- Combining the results\n",
    "\n",
    "In many situations, we split the data into sets and we apply some functionality on each subset. In the apply functionality, we can perform the following operations −\n",
    "\n",
    "- **Aggregation** − computing a summary statistic\n",
    "\n",
    "- **Transformation** − perform some group-specific operation\n",
    "\n",
    "- **Filtration** − discarding the data with some condition"
   ]
  },
  {
   "cell_type": "code",
   "execution_count": 26,
   "metadata": {},
   "outputs": [
    {
     "data": {
      "text/plain": [
       "<pandas.core.groupby.generic.DataFrameGroupBy object at 0x0000027607D1AA30>"
      ]
     },
     "execution_count": 26,
     "metadata": {},
     "output_type": "execute_result"
    }
   ],
   "source": [
    "# group imdb_df by movie genres\n",
    "genre_grp = movies.groupby(['genre'])\n",
    "genre_grp\n"
   ]
  },
  {
   "cell_type": "code",
   "execution_count": 27,
   "metadata": {},
   "outputs": [
    {
     "data": {
      "text/html": [
       "<div>\n",
       "<style scoped>\n",
       "    .dataframe tbody tr th:only-of-type {\n",
       "        vertical-align: middle;\n",
       "    }\n",
       "\n",
       "    .dataframe tbody tr th {\n",
       "        vertical-align: top;\n",
       "    }\n",
       "\n",
       "    .dataframe thead th {\n",
       "        text-align: right;\n",
       "    }\n",
       "</style>\n",
       "<table border=\"1\" class=\"dataframe\">\n",
       "  <thead>\n",
       "    <tr style=\"text-align: right;\">\n",
       "      <th></th>\n",
       "      <th>star_rating</th>\n",
       "      <th>title</th>\n",
       "      <th>content_rating</th>\n",
       "      <th>genre</th>\n",
       "      <th>duration</th>\n",
       "      <th>actors_list</th>\n",
       "    </tr>\n",
       "  </thead>\n",
       "  <tbody>\n",
       "    <tr>\n",
       "      <th>0</th>\n",
       "      <td>9.3</td>\n",
       "      <td>The Shawshank Redemption</td>\n",
       "      <td>R</td>\n",
       "      <td>Crime</td>\n",
       "      <td>142</td>\n",
       "      <td>[u'Tim Robbins', u'Morgan Freeman', u'Bob Gunt...</td>\n",
       "    </tr>\n",
       "    <tr>\n",
       "      <th>1</th>\n",
       "      <td>9.2</td>\n",
       "      <td>The Godfather</td>\n",
       "      <td>R</td>\n",
       "      <td>Crime</td>\n",
       "      <td>175</td>\n",
       "      <td>[u'Marlon Brando', u'Al Pacino', u'James Caan']</td>\n",
       "    </tr>\n",
       "    <tr>\n",
       "      <th>2</th>\n",
       "      <td>9.1</td>\n",
       "      <td>The Godfather: Part II</td>\n",
       "      <td>R</td>\n",
       "      <td>Crime</td>\n",
       "      <td>200</td>\n",
       "      <td>[u'Al Pacino', u'Robert De Niro', u'Robert Duv...</td>\n",
       "    </tr>\n",
       "    <tr>\n",
       "      <th>4</th>\n",
       "      <td>8.9</td>\n",
       "      <td>Pulp Fiction</td>\n",
       "      <td>R</td>\n",
       "      <td>Crime</td>\n",
       "      <td>154</td>\n",
       "      <td>[u'John Travolta', u'Uma Thurman', u'Samuel L....</td>\n",
       "    </tr>\n",
       "    <tr>\n",
       "      <th>21</th>\n",
       "      <td>8.7</td>\n",
       "      <td>City of God</td>\n",
       "      <td>R</td>\n",
       "      <td>Crime</td>\n",
       "      <td>130</td>\n",
       "      <td>[u'Alexandre Rodrigues', u'Matheus Nachtergael...</td>\n",
       "    </tr>\n",
       "    <tr>\n",
       "      <th>...</th>\n",
       "      <td>...</td>\n",
       "      <td>...</td>\n",
       "      <td>...</td>\n",
       "      <td>...</td>\n",
       "      <td>...</td>\n",
       "      <td>...</td>\n",
       "    </tr>\n",
       "    <tr>\n",
       "      <th>927</th>\n",
       "      <td>7.5</td>\n",
       "      <td>Brick</td>\n",
       "      <td>R</td>\n",
       "      <td>Crime</td>\n",
       "      <td>110</td>\n",
       "      <td>[u'Joseph Gordon-Levitt', u'Lukas Haas', u'Emi...</td>\n",
       "    </tr>\n",
       "    <tr>\n",
       "      <th>931</th>\n",
       "      <td>7.4</td>\n",
       "      <td>Mean Streets</td>\n",
       "      <td>R</td>\n",
       "      <td>Crime</td>\n",
       "      <td>112</td>\n",
       "      <td>[u'Robert De Niro', u'Harvey Keitel', u'David ...</td>\n",
       "    </tr>\n",
       "    <tr>\n",
       "      <th>950</th>\n",
       "      <td>7.4</td>\n",
       "      <td>Bound</td>\n",
       "      <td>R</td>\n",
       "      <td>Crime</td>\n",
       "      <td>108</td>\n",
       "      <td>[u'Jennifer Tilly', u'Gina Gershon', u'Joe Pan...</td>\n",
       "    </tr>\n",
       "    <tr>\n",
       "      <th>969</th>\n",
       "      <td>7.4</td>\n",
       "      <td>Law Abiding Citizen</td>\n",
       "      <td>R</td>\n",
       "      <td>Crime</td>\n",
       "      <td>109</td>\n",
       "      <td>[u'Gerard Butler', u'Jamie Foxx', u'Leslie Bibb']</td>\n",
       "    </tr>\n",
       "    <tr>\n",
       "      <th>978</th>\n",
       "      <td>7.4</td>\n",
       "      <td>Wall Street</td>\n",
       "      <td>R</td>\n",
       "      <td>Crime</td>\n",
       "      <td>126</td>\n",
       "      <td>[u'Charlie Sheen', u'Michael Douglas', u'Tamar...</td>\n",
       "    </tr>\n",
       "  </tbody>\n",
       "</table>\n",
       "<p>124 rows × 6 columns</p>\n",
       "</div>"
      ],
      "text/plain": [
       "     star_rating                     title content_rating  genre  duration  \\\n",
       "0            9.3  The Shawshank Redemption              R  Crime       142   \n",
       "1            9.2             The Godfather              R  Crime       175   \n",
       "2            9.1    The Godfather: Part II              R  Crime       200   \n",
       "4            8.9              Pulp Fiction              R  Crime       154   \n",
       "21           8.7               City of God              R  Crime       130   \n",
       "..           ...                       ...            ...    ...       ...   \n",
       "927          7.5                     Brick              R  Crime       110   \n",
       "931          7.4              Mean Streets              R  Crime       112   \n",
       "950          7.4                     Bound              R  Crime       108   \n",
       "969          7.4       Law Abiding Citizen              R  Crime       109   \n",
       "978          7.4               Wall Street              R  Crime       126   \n",
       "\n",
       "                                           actors_list  \n",
       "0    [u'Tim Robbins', u'Morgan Freeman', u'Bob Gunt...  \n",
       "1      [u'Marlon Brando', u'Al Pacino', u'James Caan']  \n",
       "2    [u'Al Pacino', u'Robert De Niro', u'Robert Duv...  \n",
       "4    [u'John Travolta', u'Uma Thurman', u'Samuel L....  \n",
       "21   [u'Alexandre Rodrigues', u'Matheus Nachtergael...  \n",
       "..                                                 ...  \n",
       "927  [u'Joseph Gordon-Levitt', u'Lukas Haas', u'Emi...  \n",
       "931  [u'Robert De Niro', u'Harvey Keitel', u'David ...  \n",
       "950  [u'Jennifer Tilly', u'Gina Gershon', u'Joe Pan...  \n",
       "969  [u'Gerard Butler', u'Jamie Foxx', u'Leslie Bibb']  \n",
       "978  [u'Charlie Sheen', u'Michael Douglas', u'Tamar...  \n",
       "\n",
       "[124 rows x 6 columns]"
      ]
     },
     "execution_count": 27,
     "metadata": {},
     "output_type": "execute_result"
    }
   ],
   "source": [
    "# get crime movies group\n",
    "genre_grp.get_group('Crime')"
   ]
  },
  {
   "cell_type": "code",
   "execution_count": 28,
   "metadata": {
    "scrolled": true
   },
   "outputs": [
    {
     "data": {
      "text/plain": [
       "genre\n",
       "Action       126.485294\n",
       "Adventure    134.840000\n",
       "Animation     96.596774\n",
       "Biography    131.844156\n",
       "Comedy       107.602564\n",
       "Crime        122.298387\n",
       "Drama        126.539568\n",
       "Family       107.500000\n",
       "Fantasy      112.000000\n",
       "Film-Noir     97.333333\n",
       "History       66.000000\n",
       "Horror       102.517241\n",
       "Mystery      115.625000\n",
       "Sci-Fi       109.000000\n",
       "Thriller     114.200000\n",
       "Western      136.666667\n",
       "Name: duration, dtype: float64"
      ]
     },
     "execution_count": 28,
     "metadata": {},
     "output_type": "execute_result"
    }
   ],
   "source": [
    "# get mean of movie durations for each group\n",
    "duration_mean = genre_grp['duration'].mean()\n",
    "duration_mean\n"
   ]
  },
  {
   "cell_type": "code",
   "execution_count": 29,
   "metadata": {},
   "outputs": [],
   "source": [
    "# change duration of all movies in a particular genre to mean duration of the group\n",
    "n=len(movies.index)\n",
    "for i in range(n):\n",
    "    movies.loc[i,'duration'] = duration_mean[movies.loc[i,'genre']]\n"
   ]
  },
  {
   "cell_type": "code",
   "execution_count": 30,
   "metadata": {},
   "outputs": [],
   "source": [
    "# drop groups/genres that do not have average movie duration greater than 120.\n",
    "n= len(movies.index)\n",
    "for i in range(n):\n",
    "    if(movies.loc[i,'duration']<=120):\n",
    "        movies.drop(i,inplace=True)"
   ]
  },
  {
   "cell_type": "code",
   "execution_count": 37,
   "metadata": {},
   "outputs": [],
   "source": [
    "# group weekday wise bikers count\n",
    "weekday_grp = bikes.groupby(['Weekday'])\n"
   ]
  },
  {
   "cell_type": "code",
   "execution_count": 38,
   "metadata": {},
   "outputs": [
    {
     "data": {
      "text/plain": [
       "<pandas.core.groupby.generic.DataFrameGroupBy object at 0x000002760BC71400>"
      ]
     },
     "execution_count": 38,
     "metadata": {},
     "output_type": "execute_result"
    }
   ],
   "source": [
    "weekday_grp"
   ]
  },
  {
   "cell_type": "code",
   "execution_count": 39,
   "metadata": {},
   "outputs": [
    {
     "data": {
      "text/html": [
       "<div>\n",
       "<style scoped>\n",
       "    .dataframe tbody tr th:only-of-type {\n",
       "        vertical-align: middle;\n",
       "    }\n",
       "\n",
       "    .dataframe tbody tr th {\n",
       "        vertical-align: top;\n",
       "    }\n",
       "\n",
       "    .dataframe thead th {\n",
       "        text-align: right;\n",
       "    }\n",
       "</style>\n",
       "<table border=\"1\" class=\"dataframe\">\n",
       "  <thead>\n",
       "    <tr style=\"text-align: right;\">\n",
       "      <th></th>\n",
       "      <th>Rachel / Papineau</th>\n",
       "      <th>Berri1</th>\n",
       "      <th>Maisonneuve_2</th>\n",
       "      <th>Maisonneuve_1</th>\n",
       "      <th>Brébeuf</th>\n",
       "      <th>Parc</th>\n",
       "      <th>PierDup</th>\n",
       "      <th>CSC (Côte Sainte-Catherine)</th>\n",
       "      <th>Pont_Jacques_Cartier</th>\n",
       "    </tr>\n",
       "    <tr>\n",
       "      <th>Weekday</th>\n",
       "      <th></th>\n",
       "      <th></th>\n",
       "      <th></th>\n",
       "      <th></th>\n",
       "      <th></th>\n",
       "      <th></th>\n",
       "      <th></th>\n",
       "      <th></th>\n",
       "      <th></th>\n",
       "    </tr>\n",
       "  </thead>\n",
       "  <tbody>\n",
       "    <tr>\n",
       "      <th>Friday</th>\n",
       "      <td>146979</td>\n",
       "      <td>150493</td>\n",
       "      <td>183961</td>\n",
       "      <td>104584</td>\n",
       "      <td>12259.0</td>\n",
       "      <td>96569</td>\n",
       "      <td>43217</td>\n",
       "      <td>59856</td>\n",
       "      <td>62164.0</td>\n",
       "    </tr>\n",
       "    <tr>\n",
       "      <th>Monday</th>\n",
       "      <td>138881</td>\n",
       "      <td>142285</td>\n",
       "      <td>174610</td>\n",
       "      <td>95565</td>\n",
       "      <td>15436.0</td>\n",
       "      <td>97001</td>\n",
       "      <td>47259</td>\n",
       "      <td>64011</td>\n",
       "      <td>74692.0</td>\n",
       "    </tr>\n",
       "    <tr>\n",
       "      <th>Saturday</th>\n",
       "      <td>118560</td>\n",
       "      <td>105635</td>\n",
       "      <td>109902</td>\n",
       "      <td>64872</td>\n",
       "      <td>11170.0</td>\n",
       "      <td>51019</td>\n",
       "      <td>53360</td>\n",
       "      <td>35507</td>\n",
       "      <td>54493.0</td>\n",
       "    </tr>\n",
       "    <tr>\n",
       "      <th>Sunday</th>\n",
       "      <td>122115</td>\n",
       "      <td>102447</td>\n",
       "      <td>102272</td>\n",
       "      <td>57438</td>\n",
       "      <td>12032.0</td>\n",
       "      <td>52419</td>\n",
       "      <td>62070</td>\n",
       "      <td>37867</td>\n",
       "      <td>84638.0</td>\n",
       "    </tr>\n",
       "    <tr>\n",
       "      <th>Thursday</th>\n",
       "      <td>150971</td>\n",
       "      <td>169976</td>\n",
       "      <td>210039</td>\n",
       "      <td>118633</td>\n",
       "      <td>15679.0</td>\n",
       "      <td>113675</td>\n",
       "      <td>46117</td>\n",
       "      <td>73215</td>\n",
       "      <td>62174.0</td>\n",
       "    </tr>\n",
       "    <tr>\n",
       "      <th>Tuesday</th>\n",
       "      <td>131632</td>\n",
       "      <td>145795</td>\n",
       "      <td>179939</td>\n",
       "      <td>99421</td>\n",
       "      <td>10629.0</td>\n",
       "      <td>100007</td>\n",
       "      <td>35901</td>\n",
       "      <td>63503</td>\n",
       "      <td>53552.0</td>\n",
       "    </tr>\n",
       "    <tr>\n",
       "      <th>Wednesday</th>\n",
       "      <td>144531</td>\n",
       "      <td>163603</td>\n",
       "      <td>200273</td>\n",
       "      <td>112344</td>\n",
       "      <td>14876.0</td>\n",
       "      <td>110820</td>\n",
       "      <td>44045</td>\n",
       "      <td>72047</td>\n",
       "      <td>63472.0</td>\n",
       "    </tr>\n",
       "  </tbody>\n",
       "</table>\n",
       "</div>"
      ],
      "text/plain": [
       "           Rachel / Papineau  Berri1  Maisonneuve_2  Maisonneuve_1  Brébeuf  \\\n",
       "Weekday                                                                       \n",
       "Friday                146979  150493         183961         104584  12259.0   \n",
       "Monday                138881  142285         174610          95565  15436.0   \n",
       "Saturday              118560  105635         109902          64872  11170.0   \n",
       "Sunday                122115  102447         102272          57438  12032.0   \n",
       "Thursday              150971  169976         210039         118633  15679.0   \n",
       "Tuesday               131632  145795         179939          99421  10629.0   \n",
       "Wednesday             144531  163603         200273         112344  14876.0   \n",
       "\n",
       "             Parc  PierDup  CSC (Côte Sainte-Catherine)  Pont_Jacques_Cartier  \n",
       "Weekday                                                                        \n",
       "Friday      96569    43217                        59856               62164.0  \n",
       "Monday      97001    47259                        64011               74692.0  \n",
       "Saturday    51019    53360                        35507               54493.0  \n",
       "Sunday      52419    62070                        37867               84638.0  \n",
       "Thursday   113675    46117                        73215               62174.0  \n",
       "Tuesday    100007    35901                        63503               53552.0  \n",
       "Wednesday  110820    44045                        72047               63472.0  "
      ]
     },
     "execution_count": 39,
     "metadata": {},
     "output_type": "execute_result"
    }
   ],
   "source": [
    "# get weekday wise biker count\n",
    "# day_lst = ['Monday', 'Tuesday', 'Wednesday', 'Thursday', 'Friday', 'Saturday', 'Sunday']\n",
    "# sum_lst = []\n",
    "# for i in range(7):\n",
    "#     sum_lst.append(weekday_grp.get_group(day_lst[i]).sum().sum())\n",
    "\n",
    "# sum_lst\n",
    "weekday_grp.aggregate(sum)"
   ]
  },
  {
   "cell_type": "code",
   "execution_count": 40,
   "metadata": {},
   "outputs": [
    {
     "data": {
      "text/plain": [
       "Weekday\n",
       "Friday       150493\n",
       "Monday       142285\n",
       "Saturday     105635\n",
       "Sunday       102447\n",
       "Thursday     169976\n",
       "Tuesday      145795\n",
       "Wednesday    163603\n",
       "Name: Berri1, dtype: int64"
      ]
     },
     "execution_count": 40,
     "metadata": {},
     "output_type": "execute_result"
    }
   ],
   "source": [
    "# plot weekday wise biker count for 'Berri1'\n",
    "weekday_grp['Berri1'].aggregate(sum)"
   ]
  },
  {
   "cell_type": "markdown",
   "metadata": {},
   "source": [
    "![](https://memegenerator.net/img/instances/500x/73988569/pythonpandas-is-easy-import-and-go.jpg)"
   ]
  }
 ],
 "metadata": {
  "kernelspec": {
   "display_name": "Python 3 (ipykernel)",
   "language": "python",
   "name": "python3"
  },
  "language_info": {
   "codemirror_mode": {
    "name": "ipython",
    "version": 3
   },
   "file_extension": ".py",
   "mimetype": "text/x-python",
   "name": "python",
   "nbconvert_exporter": "python",
   "pygments_lexer": "ipython3",
   "version": "3.9.7"
  }
 },
 "nbformat": 4,
 "nbformat_minor": 2
}
